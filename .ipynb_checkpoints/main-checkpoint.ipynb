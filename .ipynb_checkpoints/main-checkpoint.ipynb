{
 "cells": [
  {
   "cell_type": "code",
   "execution_count": 1,
   "metadata": {},
   "outputs": [],
   "source": [
    "import pandas as pd\n",
    "\n",
    "def transform_data(transfer):\n",
    "    transfer = transfer.split('class=\"text\"><strong>')[1]\n",
    "    transfer = transfer.split('</strong></div></li><a class=\"icon-revert\"></a></ul>')[0]\n",
    "    transfer = transfer.replace(\n",
    "        '</strong><time>', ' - ').replace(\n",
    "        '</time><span>', ' - ').replace(\n",
    "        '</span><div class=\"from\">De <strong>', ' - ').replace(\n",
    "        '</strong> a <strong>', ' - ')\n",
    "\n",
    "    # At this point every transfer should look like: \n",
    "    # Antoñín - 17/09/2020 - 10:10 - 800.000 € - Equipo ESPAÑA - futmondo\n",
    "    \n",
    "    transfer_data = transfer.split(' - ')\n",
    "    transfer_dict = {\n",
    "        'player': transfer_data[0],\n",
    "        'date': transfer_data[1],\n",
    "        'time': transfer_data[2],\n",
    "        'amount': transfer_data[3].replace('.', '').replace(' €', ''),\n",
    "        'from': transfer_data[4],\n",
    "        'to': transfer_data[5],\n",
    "    }\n",
    "    return transfer_dict"
   ]
  },
  {
   "cell_type": "code",
   "execution_count": null,
   "metadata": {},
   "outputs": [],
   "source": [
    "with open('futmondo.html', 'r', encoding=\"utf8\") as f:\n",
    "    transfers = f.readlines()\n",
    "    transfers = [x.strip() for x in transfers]\n",
    "\n",
    "transfers = [transform_data(t) for t in transfers]\n",
    "\n",
    "pd.DataFrame(transfers.items(), columns=['Player', 'Date', 'Time', 'Amount', 'From', 'To'])\n",
    "pd.to_csv('test.csv')"
   ]
  }
 ],
 "metadata": {
  "kernelspec": {
   "display_name": "Python 3",
   "language": "python",
   "name": "python3"
  },
  "language_info": {
   "codemirror_mode": {
    "name": "ipython",
    "version": 3
   },
   "file_extension": ".py",
   "mimetype": "text/x-python",
   "name": "python",
   "nbconvert_exporter": "python",
   "pygments_lexer": "ipython3",
   "version": "3.7.7"
  }
 },
 "nbformat": 4,
 "nbformat_minor": 4
}
